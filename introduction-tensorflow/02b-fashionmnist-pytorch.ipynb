{
  "nbformat": 4,
  "nbformat_minor": 0,
  "metadata": {
    "colab": {
      "name": "PyTorch-FashionMnist-Test.ipynb",
      "provenance": [],
      "collapsed_sections": []
    },
    "kernelspec": {
      "name": "python3",
      "display_name": "Python 3"
    }
  },
  "cells": [
    {
      "cell_type": "code",
      "metadata": {
        "id": "zvx9YYxDSDgN"
      },
      "source": [
        "import torchvision\n",
        "from torchvision import transforms\n",
        "\n",
        "trainset = torchvision.datasets.FashionMNIST(root = \"./data\", train = True, download = True, transform = transforms.ToTensor())\n",
        "testset = torchvision.datasets.FashionMNIST(root = \"./data\", train = False, download = True, transform = transforms.ToTensor())"
      ],
      "execution_count": 2,
      "outputs": []
    },
    {
      "cell_type": "code",
      "metadata": {
        "id": "Ll0K4bazS94e"
      },
      "source": [
        "classes = ('T-Shirt','Trouser','Pullover','Dress','Coat','Sandal','Shirt','Sneaker','Bag','Ankle Boot')"
      ],
      "execution_count": 3,
      "outputs": []
    },
    {
      "cell_type": "code",
      "metadata": {
        "colab": {
          "base_uri": "https://localhost:8080/",
          "height": 265
        },
        "id": "oxOgMwjyTVFz",
        "outputId": "1cc4ba32-272d-4f67-f94b-4e532025bba9"
      },
      "source": [
        "%matplotlib inline\n",
        "\n",
        "import matplotlib.pyplot as plt\n",
        "import numpy as np\n",
        "def show(img):\n",
        "    npimg = img.numpy().reshape((28,28))\n",
        "    plt.imshow(npimg)\n",
        "\n",
        "show(trainset[0][0])"
      ],
      "execution_count": 4,
      "outputs": [
        {
          "output_type": "display_data",
          "data": {
            "image/png": "[encoded data removed]",
            "text/plain": [
              "<Figure size 432x288 with 1 Axes>"
            ]
          },
          "metadata": {
            "tags": [],
            "needs_background": "light"
          }
        }
      ]
    },
    {
      "cell_type": "code",
      "metadata": {
        "id": "HgLjpvnNU32O"
      },
      "source": [
        "import torch\n",
        "import torch.nn as nn\n",
        "import torch.nn.functional as F\n",
        "\n",
        "\n",
        "class Net(nn.Module):\n",
        "    def __init__(self):\n",
        "        super(Net, self).__init__()\n",
        "        self.flatten = nn.Flatten()\n",
        "        self.fc1 = nn.Linear(784, 512)\n",
        "        self.fc2 = nn.Linear(512, 10)\n",
        "\n",
        "    def forward(self, x):\n",
        "        x = self.flatten(x)\n",
        "        x = F.relu(self.fc1(x))\n",
        "        x = self.fc2(x)\n",
        "        return x\n",
        "\n",
        "net = Net()"
      ],
      "execution_count": 5,
      "outputs": []
    },
    {
      "cell_type": "code",
      "metadata": {
        "id": "nz6kqS7CXi2l"
      },
      "source": [
        "import torch.optim as optim\n",
        "\n",
        "criterion = nn.CrossEntropyLoss()\n",
        "optimizer = optim.SGD(net.parameters(), lr=0.001, momentum=0.9)"
      ],
      "execution_count": 6,
      "outputs": []
    },
    {
      "cell_type": "code",
      "metadata": {
        "colab": {
          "base_uri": "https://localhost:8080/"
        },
        "id": "5LYHdd-WZZGL",
        "outputId": "fce7aa0f-8cb7-45c2-d3a0-956febd1b681"
      },
      "source": [
        "trainloader = torch.utils.data.DataLoader(trainset, batch_size=4, shuffle=True, num_workers=2)\n",
        "testloader = torch.utils.data.DataLoader(testset, batch_size=4, shuffle=False, num_workers=2)\n",
        "\n",
        "for epoch in range(2):\n",
        "    running_loss = 0.0\n",
        "    for i, data in enumerate(trainloader, 0):\n",
        "        inputs, labels = data\n",
        "        optimizer.zero_grad()\n",
        "        outputs = net(inputs)\n",
        "        loss = criterion(outputs, labels)\n",
        "        loss.backward()\n",
        "        optimizer.step()\n",
        "        running_loss += loss.item()\n",
        "        if i % 2000 == 1999:\n",
        "            print('[%d, %5d] loss: %.3f' % (epoch + 1, i + 1, running_loss / 2000))\n",
        "            running_loss = 0.0\n",
        "\n",
        "print('Finished Training')"
      ],
      "execution_count": 7,
      "outputs": [
        {
          "output_type": "stream",
          "text": [
            "[1,  2000] loss: 0.914\n",
            "[1,  4000] loss: 0.598\n",
            "[1,  6000] loss: 0.534\n",
            "[1,  8000] loss: 0.498\n",
            "[1, 10000] loss: 0.482\n",
            "[1, 12000] loss: 0.464\n",
            "[1, 14000] loss: 0.452\n",
            "[2,  2000] loss: 0.427\n",
            "[2,  4000] loss: 0.410\n",
            "[2,  6000] loss: 0.404\n",
            "[2,  8000] loss: 0.405\n",
            "[2, 10000] loss: 0.411\n",
            "[2, 12000] loss: 0.388\n",
            "[2, 14000] loss: 0.378\n",
            "Finished Training\n"
          ],
          "name": "stdout"
        }
      ]
    },
    {
      "cell_type": "code",
      "metadata": {
        "colab": {
          "base_uri": "https://localhost:8080/"
        },
        "id": "uCmcjoT7ghZW",
        "outputId": "3b0a53e1-a152-46a9-db4b-1731babfc0c9"
      },
      "source": [
        "total_correct = 0\n",
        "total_false = 0\n",
        "for i in range(10000):\n",
        "  predicted = classes[torch.argmax(net(testset[i][0])).numpy().tolist()]\n",
        "  original = classes[testset[i][1]]\n",
        "\n",
        "  if(predicted == original):\n",
        "    total_correct += 1\n",
        "  else:\n",
        "    total_false += 1\n",
        "  \n",
        "  if i % 2000 == 1999:\n",
        "    print(f'{i} predicted')\n",
        "\n",
        "print(total_correct, total_false)"
      ],
      "execution_count": 8,
      "outputs": [
        {
          "output_type": "stream",
          "text": [
            "1999 predicted\n",
            "3999 predicted\n",
            "5999 predicted\n",
            "7999 predicted\n",
            "9999 predicted\n",
            "8486 1514\n"
          ],
          "name": "stdout"
        }
      ]
    },
    {
      "cell_type": "code",
      "metadata": {
        "colab": {
          "base_uri": "https://localhost:8080/"
        },
        "id": "2mkPB2__g5WE",
        "outputId": "16c5c161-70db-4ec8-ea11-20fb759eabfd"
      },
      "source": [
        "print(\"accuracy: \", total_correct/len(testset) * 100)"
      ],
      "execution_count": 9,
      "outputs": [
        {
          "output_type": "stream",
          "text": [
            "accuracy:  84.86\n"
          ],
          "name": "stdout"
        }
      ]
    },
    {
      "cell_type": "code",
      "metadata": {
        "colab": {
          "base_uri": "https://localhost:8080/",
          "height": 282
        },
        "id": "1sghaZUHkYD9",
        "outputId": "a45846ed-7ff9-45d8-c9ee-3b2b1e100076"
      },
      "source": [
        "from skimage.io import imread, imshow\n",
        "from skimage.transform import resize\n",
        "from skimage.util import img_as_ubyte\n",
        "\n",
        "url = \"https://www.galeria.de/dw/image/v2/karstadt/APInoauth/storage/VX-1/file/VX-3180240/0.013169664447730378/VX-3180240.jpeg?sw=1200&sh=1200&sm=fit\"\n",
        "img1 = imread(url, as_gray=True)\n",
        "img2 = resize(img1, (28, 28))\n",
        "img3 = img_as_ubyte(img2)\n",
        "img3 = ~img3\n",
        "img3 = img3.astype(np.float32)\n",
        "img3 = torch.from_numpy(img3.reshape((1, 28, 28)))\n",
        "\n",
        "show(img3)\n",
        "print(\"Prediction: \", classes[torch.argmax(net(img3)).numpy().tolist()])"
      ],
      "execution_count": 64,
      "outputs": [
        {
          "output_type": "stream",
          "text": [
            "Prediction:  Trouser\n"
          ],
          "name": "stdout"
        },
        {
          "output_type": "display_data",
          "data": {
            "image/png": "[encoded data removed]",
            "text/plain": [
              "<Figure size 432x288 with 1 Axes>"
            ]
          },
          "metadata": {
            "tags": [],
            "needs_background": "light"
          }
        }
      ]
    }
  ]
}